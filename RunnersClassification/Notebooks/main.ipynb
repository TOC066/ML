{
 "cells": [
  {
   "cell_type": "markdown",
   "id": "31440eb8",
   "metadata": {},
   "source": [
    "Dataset Runners, hiperlink: \n",
    "https://www.kaggle.com/datasets/beridzeg45/runners-dataset?resource=download"
   ]
  },
  {
   "cell_type": "code",
   "execution_count": 1,
   "id": "41e1fcfa",
   "metadata": {},
   "outputs": [],
   "source": [
    "import pandas as pd"
   ]
  },
  {
   "cell_type": "code",
   "execution_count": 2,
   "id": "9f391950",
   "metadata": {},
   "outputs": [
    {
     "data": {
      "text/html": [
       "<div>\n",
       "<style scoped>\n",
       "    .dataframe tbody tr th:only-of-type {\n",
       "        vertical-align: middle;\n",
       "    }\n",
       "\n",
       "    .dataframe tbody tr th {\n",
       "        vertical-align: top;\n",
       "    }\n",
       "\n",
       "    .dataframe thead th {\n",
       "        text-align: right;\n",
       "    }\n",
       "</style>\n",
       "<table border=\"1\" class=\"dataframe\">\n",
       "  <thead>\n",
       "    <tr style=\"text-align: right;\">\n",
       "      <th></th>\n",
       "      <th>Discipline</th>\n",
       "      <th>Gender</th>\n",
       "      <th>Runner</th>\n",
       "      <th>Time</th>\n",
       "      <th>Country</th>\n",
       "      <th>Date</th>\n",
       "    </tr>\n",
       "  </thead>\n",
       "  <tbody>\n",
       "    <tr>\n",
       "      <th>0</th>\n",
       "      <td>100 metres</td>\n",
       "      <td>men</td>\n",
       "      <td>Usain Bolt</td>\n",
       "      <td>9.58</td>\n",
       "      <td>JAM</td>\n",
       "      <td>2009-08-16</td>\n",
       "    </tr>\n",
       "    <tr>\n",
       "      <th>1</th>\n",
       "      <td>100 metres</td>\n",
       "      <td>men</td>\n",
       "      <td>Usain Bolt</td>\n",
       "      <td>9.63</td>\n",
       "      <td>JAM</td>\n",
       "      <td>2012-08-05</td>\n",
       "    </tr>\n",
       "    <tr>\n",
       "      <th>2</th>\n",
       "      <td>100 metres</td>\n",
       "      <td>men</td>\n",
       "      <td>Usain Bolt</td>\n",
       "      <td>9.69</td>\n",
       "      <td>JAM</td>\n",
       "      <td>2008-08-16</td>\n",
       "    </tr>\n",
       "    <tr>\n",
       "      <th>3</th>\n",
       "      <td>100 metres</td>\n",
       "      <td>men</td>\n",
       "      <td>Tyson Gay</td>\n",
       "      <td>9.69</td>\n",
       "      <td>USA</td>\n",
       "      <td>2009-09-20</td>\n",
       "    </tr>\n",
       "    <tr>\n",
       "      <th>4</th>\n",
       "      <td>100 metres</td>\n",
       "      <td>men</td>\n",
       "      <td>Yohan Blake</td>\n",
       "      <td>9.69</td>\n",
       "      <td>JAM</td>\n",
       "      <td>2012-08-23</td>\n",
       "    </tr>\n",
       "  </tbody>\n",
       "</table>\n",
       "</div>"
      ],
      "text/plain": [
       "   Discipline Gender       Runner  Time Country        Date\n",
       "0  100 metres    men   Usain Bolt  9.58     JAM  2009-08-16\n",
       "1  100 metres    men   Usain Bolt  9.63     JAM  2012-08-05\n",
       "2  100 metres    men   Usain Bolt  9.69     JAM  2008-08-16\n",
       "3  100 metres    men    Tyson Gay  9.69     USA  2009-09-20\n",
       "4  100 metres    men  Yohan Blake  9.69     JAM  2012-08-23"
      ]
     },
     "execution_count": 2,
     "metadata": {},
     "output_type": "execute_result"
    }
   ],
   "source": [
    "df = pd.read_csv(r\"/workspaces/ML/RunnersClassification/Data/runners.csv\")\n",
    "df.head()"
   ]
  },
  {
   "cell_type": "code",
   "execution_count": 3,
   "id": "ec3be2ab",
   "metadata": {},
   "outputs": [
    {
     "data": {
      "text/html": [
       "<div>\n",
       "<style scoped>\n",
       "    .dataframe tbody tr th:only-of-type {\n",
       "        vertical-align: middle;\n",
       "    }\n",
       "\n",
       "    .dataframe tbody tr th {\n",
       "        vertical-align: top;\n",
       "    }\n",
       "\n",
       "    .dataframe thead th {\n",
       "        text-align: right;\n",
       "    }\n",
       "</style>\n",
       "<table border=\"1\" class=\"dataframe\">\n",
       "  <thead>\n",
       "    <tr style=\"text-align: right;\">\n",
       "      <th></th>\n",
       "      <th>Time</th>\n",
       "    </tr>\n",
       "  </thead>\n",
       "  <tbody>\n",
       "    <tr>\n",
       "      <th>count</th>\n",
       "      <td>67949.000000</td>\n",
       "    </tr>\n",
       "    <tr>\n",
       "      <th>mean</th>\n",
       "      <td>445.359741</td>\n",
       "    </tr>\n",
       "    <tr>\n",
       "      <th>std</th>\n",
       "      <td>637.131364</td>\n",
       "    </tr>\n",
       "    <tr>\n",
       "      <th>min</th>\n",
       "      <td>9.580000</td>\n",
       "    </tr>\n",
       "    <tr>\n",
       "      <th>25%</th>\n",
       "      <td>44.850000</td>\n",
       "    </tr>\n",
       "    <tr>\n",
       "      <th>50%</th>\n",
       "      <td>118.580000</td>\n",
       "    </tr>\n",
       "    <tr>\n",
       "      <th>75%</th>\n",
       "      <td>462.990000</td>\n",
       "    </tr>\n",
       "    <tr>\n",
       "      <th>max</th>\n",
       "      <td>1929.990000</td>\n",
       "    </tr>\n",
       "  </tbody>\n",
       "</table>\n",
       "</div>"
      ],
      "text/plain": [
       "               Time\n",
       "count  67949.000000\n",
       "mean     445.359741\n",
       "std      637.131364\n",
       "min        9.580000\n",
       "25%       44.850000\n",
       "50%      118.580000\n",
       "75%      462.990000\n",
       "max     1929.990000"
      ]
     },
     "execution_count": 3,
     "metadata": {},
     "output_type": "execute_result"
    }
   ],
   "source": [
    "df.describe()"
   ]
  },
  {
   "cell_type": "code",
   "execution_count": 4,
   "id": "c0056fc8",
   "metadata": {},
   "outputs": [
    {
     "data": {
      "text/plain": [
       "Discipline    67949\n",
       "Gender        67949\n",
       "Runner        67949\n",
       "Time          67949\n",
       "Country       67949\n",
       "Date          67560\n",
       "dtype: int64"
      ]
     },
     "execution_count": 4,
     "metadata": {},
     "output_type": "execute_result"
    }
   ],
   "source": [
    "df.count()"
   ]
  },
  {
   "cell_type": "code",
   "execution_count": 5,
   "id": "4a2a96b5",
   "metadata": {},
   "outputs": [
    {
     "data": {
      "text/plain": [
       "array(['100 metres', '200 metres', '400 metres', '800 metres',\n",
       "       '1500 metres', '3000 metres', '10000 metres'], dtype=object)"
      ]
     },
     "execution_count": 5,
     "metadata": {},
     "output_type": "execute_result"
    }
   ],
   "source": [
    "df.Discipline.unique()"
   ]
  },
  {
   "cell_type": "code",
   "execution_count": 6,
   "id": "8f1e4c42",
   "metadata": {},
   "outputs": [
    {
     "data": {
      "text/plain": [
       "array(['men', 'women'], dtype=object)"
      ]
     },
     "execution_count": 6,
     "metadata": {},
     "output_type": "execute_result"
    }
   ],
   "source": [
    "df.Gender.unique()"
   ]
  },
  {
   "cell_type": "code",
   "execution_count": 7,
   "id": "74a73083",
   "metadata": {},
   "outputs": [
    {
     "data": {
      "text/plain": [
       "array(['Usain Bolt', 'Tyson Gay', 'Yohan Blake', ..., 'Misaki Nishida',\n",
       "       'Yuko Saito', 'Yoko Yagi'], shape=(8381,), dtype=object)"
      ]
     },
     "execution_count": 7,
     "metadata": {},
     "output_type": "execute_result"
    }
   ],
   "source": [
    "df.Runner.unique()"
   ]
  },
  {
   "cell_type": "code",
   "execution_count": 8,
   "id": "bd694208",
   "metadata": {},
   "outputs": [
    {
     "data": {
      "text/plain": [
       "array(['JAM', 'USA', 'KEN', 'Jacobs', 'TTO', 'RSA', 'CHN', 'GBR', 'CAN',\n",
       "       'Fasuba', 'NAM', 'POR', 'FRA', 'NGR', 'BOT', 'BAR', 'ZIM',\n",
       "       'Grasse', 'GHA', 'Oghenebrume', 'CUB', 'BAH', 'ANT', 'NED', 'QAT',\n",
       "       'LBR', 'Harvey', 'Onwuzurike', 'AUS', 'AHO', 'SKN', 'Cissé',\n",
       "       'Niekerk', 'Johnson', 'CAY', 'JPN', 'Meité', 'SRI', 'CMR', 'BRA',\n",
       "       'Espinosa', 'ITA', 'Sani', 'TUR', 'OMA', 'COL', 'GAM', 'Zakari',\n",
       "       'Ndure', 'GER', 'POL', 'CIV', 'IVB', 'Hua', 'PAN', 'da', 'de',\n",
       "       'SUR', 'ZAM', 'BRN', 'Mohammed', 'IRI', 'Zohri', 'Nascimento',\n",
       "       'DOM', 'PUR', 'GDR', 'ESP', 'THA', 'UGA', 'BEL', 'UKR', 'KOR',\n",
       "       'dos', 'Kweku', 'KAZ', 'NOR', 'HUN', 'AZE', 'Barnes', 'SUI', 'NZL',\n",
       "       'AUT', 'SWE', 'Wyk', 'Bangura', 'MAR', 'ECU', 'Fahmi', 'GUY',\n",
       "       'GRE', 'Jerrel', 'Afrifah', 'MRI', 'CHI', 'AIA', 'Barros', 'SUD',\n",
       "       'Herrera', 'Yaqoob', 'BUL', 'CRC', 'SEN', 'SWZ', 'RUS', 'Souza',\n",
       "       'TPE', 'Sousa', 'Hillaire', 'TKS', 'Reid', 'MNT', 'Eugênio', 'St',\n",
       "       'BER', 'IRL', 'DMA', 'SAM', 'Ewers', 'Rodrigues', 'Palomeque',\n",
       "       'SVK', 'Salem', 'Oduduru', 'Silva', 'Grange', 'GRN', 'Balkom',\n",
       "       'Mostafa', 'LES', 'Jr.', 'FRG', 'ARG', 'CYP', 'Campbell', 'Zahn',\n",
       "       'MEX', 'Lemos', 'Henrique', 'Plessis', 'CZE', 'KSA', 'Williams',\n",
       "       'COD', 'Parrela', 'Khamis', 'Leeper', 'Ingvaldsen', 'Santos',\n",
       "       'Malky', 'Sugath', 'Yahya', 'Al-Bishi', 'Ekhal', 'Oudtshoorn',\n",
       "       'Kashief', 'ISV', 'Perlaza', 'LCA', 'Coelho', 'SLO', 'KUW',\n",
       "       'Al-Shammari', 'Abubakr', 'Diouf', 'Henriques', 'Ferreiro',\n",
       "       'Nyangani', 'Bredau', 'Khawaja', 'Singhapurage', 'Branteghem',\n",
       "       'URU', 'ISR', 'Nakajima', '05.08.51', 'ALG', 'Walsh', 'Abbas',\n",
       "       'Kounta', 'VIN', 'TUN', 'Udo', 'DEN', 'ETH', 'BIH', '11.05.92',\n",
       "       'Yego', 'Kamel', '09.05.78', 'DJI', 'Barbosa', 'Langat',\n",
       "       'Chirchir', 'Mwengi', 'Singoei', 'BDI', 'VEN', 'SOM', 'Guimarães',\n",
       "       'LAT', 'Melly', 'Ismail', 'Bala', 'Reina', 'Damme', 'Özbilen',\n",
       "       'Ali', 'CRO', 'FIN', 'Al-Azemi', 'Diepen', 'Boi', 'Clezio',\n",
       "       'Sultan', 'Marai', 'Haydar', 'Gouaned', 'BLR', 'Canales', 'Guesse',\n",
       "       'Heerden', 'Abdalla', 'SRB', 'Musyoka', 'LUX', 'Rosario',\n",
       "       'González', 'Arriba', '02.06.65', 'Babiker', 'Castillo', 'Smet',\n",
       "       '30.09.45', 'Hamada', '28.08.59', '06.06.56', 'ROU', 'Kinyor',\n",
       "       'Manaoui', 'Teresa', 'Benferar', 'Kirochi', 'Marco', 'Rensburg',\n",
       "       'Helden', 'Rono', 'Abdirahman', 'Al-Zafairi', 'TAN', 'Cerezo',\n",
       "       'Bouchayby', 'Paes', 'Hassan', 'Bakhet', 'Redolat', '28.02.69',\n",
       "       'Dios', 'Al-Badri', 'Ayansa', 'Chenini', '26.09.78', 'Al-Daran',\n",
       "       'Grice', 'Høsteland', 'Moujahid', 'Zijl', 'Amine', 'Gomes', 'HAI',\n",
       "       'Villiers', 'Singh', 'Riel', 'Mayanja', '17.01.73', 'Prates',\n",
       "       'Napoli', 'EST', 'Higuero', 'Akkar', 'IND', 'Díaz', 'Adam',\n",
       "       '23.09.52', 'Shojaei', 'ERI', 'Baye', 'Perez', 'Guerrouj', 'Komen',\n",
       "       'Nordås', 'Bashir', 'Abascal', 'Andersen', 'Kemboi', 'Tanui',\n",
       "       'Shahween', 'Bakkali', 'Maru', 'Ndiwa', 'Ghazi', 'Shaheen', 'Kaam',\n",
       "       'Maina', 'Sheik', 'Basir', 'Mohamed', 'Deventer', 'Lobalu',\n",
       "       '30.10.92', 'Mouhyanin', 'PER', 'Musab', 'El', 'GUA', 'der',\n",
       "       'Warsama', 'Maataoui', 'Abad', 'Carreira', 'Thamer', 'AND',\n",
       "       'Maria', 'Koskei', 'Bachir', 'Jihnaoui', 'Kabbouri', 'Nabein',\n",
       "       'Hjorth', 'Martín', 'Goumri', '31.03.52', 'Abdillahi', 'Jawher',\n",
       "       'Abdurahman', 'Heras', 'Acosta', 'Aden', 'SSD', 'Kamal', 'Torre',\n",
       "       'Esteso', 'Hansen', 'Ibrahim', 'Himer', 'Kibet', 'Murigi',\n",
       "       'Hertoghe', 'Khayami', 'Malderen', 'LTU', 'MDA', 'Toit', 'Berg',\n",
       "       'Edman', 'Ghazali', 'Jesús', 'Mageka', 'Kaupang', 'Kovács',\n",
       "       'Hocine', 'Corrales', 'Barrios', 'Pinto', 'Alves', 'ALB', 'Saroj',\n",
       "       'del', 'Myhre', 'Bitok', 'Ashak', 'Koech', 'Wijngaert',\n",
       "       'Mphahlele', 'Bekele', 'Soi', 'Lahssini', 'Mutahi', 'Negera',\n",
       "       'Kipketer', 'Rasheed', 'Amri', 'Zewdie', 'Kipngetich', 'Kipkemboi',\n",
       "       '10.09.84', 'Martinez', 'Adem', 'Nasri', 'Sitonik', 'Kimai',\n",
       "       'Lawrence', 'Betona', 'RWA', 'Galván', 'Ndambiri', 'Korir',\n",
       "       'Musembi', 'II', 'Menjo', 'Ereng', 'Afringi', 'Al', 'Peñas',\n",
       "       'Marchi', 'la', 'do', 'Dijck', 'Rufo', 'Al-Asmari', 'Rosa',\n",
       "       'Obaid', 'Shebto', 'Jowhar', 'Kimondo', 'Zaman', 'Al-Amri',\n",
       "       'Kariuki', 'Halvorsen', 'Paul', 'Mezngi', 'Kibrab', 'Lillesø',\n",
       "       '11.09.52', 'Campos', 'Dirieh', '05.02.54', 'Thuku', 'Albentosa',\n",
       "       'Kipkurui', '22.02.60', 'Nard', 'Al-Joud', 'Dahl', 'Guen',\n",
       "       '05.05.66', 'Kipchirchir', 'Buono', 'Misoi', 'Geyte', 'Barreto',\n",
       "       'Magnússon', 'Tiouali', 'Kipyego', 'Mathathi', 'Ejigu', 'Abdosh',\n",
       "       'Ashaw', 'Benti', 'Kimutai', 'Weldeslasie', 'Muigei',\n",
       "       'Quintanilla', 'Munyi', 'Wanjiku', 'Naasi', 'Wangari', 'Ndirangu',\n",
       "       'Moen', 'Lemeteki', 'Guangul', 'Bett', 'Talel', 'Hachimi', 'Eisa',\n",
       "       'Dazza', 'Ngimba', 'Kemei', 'Kipngeno', 'Bienenfeld', 'Saidamu',\n",
       "       'Kitwara', 'Ndiku', 'Bowen', 'Pérez', 'Ruto', 'Romero', 'Shauri',\n",
       "       'Aila', 'Cortés', 'Kate', 'Zerihun', 'Mulinga', 'Kangoo', 'Muthee',\n",
       "       'Kipkorir', 'Gady', '14.04.93', 'Rmeteiiki', '01.02.61', 'Adán',\n",
       "       'Kamzee', 'Arusei', 'Cheptot', 'Garcia', 'KGZ', 'Salgado',\n",
       "       'Castella', 'Al-Hamdah', '08.05.45', 'Kumar', 'Too', 'Kipruto',\n",
       "       'Sibhatu', 'Madonna', 'Al-Dawoodi', 'PLE', 'Geay', 'Muchunu',\n",
       "       'Kiplagat', 'Kipkirui', 'Khaled', 'Chouri', 'Costa', 'Mesfin',\n",
       "       '14.10.45', 'Mutai', 'Haan', 'Hoof', '16.01.73', 'Lillefosse',\n",
       "       'Aziz', 'Lebo', '13.12.62', 'Nasser', 'Haso', '23.06.47', 'Sulle',\n",
       "       'Trujillo', 'Karanja', 'GEO', '01.10.84', 'Skjeseth', 'Kiptoo',\n",
       "       'den', 'Adani', 'Faniel', 'Medveds', 'ANG', 'Kalai', 'Jouda',\n",
       "       'Hest', 'Harroufli', 'Tum', 'Tesfamriam', 'Hooste', 'Lokir',\n",
       "       'Chitachen', 'Rogarth', '12.12.80', 'Reviejo', 'Mindez', 'Vogel',\n",
       "       'Alubou', 'Roy', 'Hassouni', 'Soare', 'Pallec', 'Yatich', 'Otmani',\n",
       "       'Chebor', 'PRK', 'Chuela', 'Rotich', '06.04.82', 'Businei',\n",
       "       '18.05.94', '22.09.93', '20.11.61', 'Mwikya', '22.05.51',\n",
       "       '06.07.54', 'Amogne', 'Ben', 'MLT', 'Lou-Smith', 'Ponte',\n",
       "       'Bittaye', '27.12.86', 'EGY', 'Milama', 'Godbless', 'UZB',\n",
       "       '14.10.86', 'Klerk', 'Fort', 'NIG', 'Heer-Murphy', 'Naser', 'IRQ',\n",
       "       'Pereira', '09.05.68', 'McPherson', 'Quirot', 'Trotter', 'Thiam',\n",
       "       '08.03.99', 'CHA', 'Manuel', 'Duporty', 'Figueiredo', 'Fall',\n",
       "       'Baynes', '01.02.81', 'George', 'Mbongo', 'Witte', '10.09.88',\n",
       "       'MOZ', 'Langen', 'Almanza', 'Bell', 'Manedo', 'Martínez', 'Jamal',\n",
       "       'Hammou', 'Dan', 'TJK', 'Hamilton', 'Paula', 'Gaspar', 'Klocová',\n",
       "       'Cooper', 'Piccione', 'BEN', 'Matisya', 'Pierre', 'McGee',\n",
       "       'Selsouli', 'Bobocea', 'Mäki', 'Fonseca-Wöllheim', 'Bovim',\n",
       "       'Grøvdal', 'Plumer', 'Hulst', 'UAE', 'Fuentes-Pila', 'Menéndez',\n",
       "       'Alptekin', '21.12.93', 'Gateri', 'Kamch', '07.06.67', 'Kiprop',\n",
       "       '05.08.95', 'Wanjiru', 'Efurd', 'Salpeter', 'Dias', 'Brea', 'Gedo',\n",
       "       'Hilaire', 'Temesgen', 'Chelimo', 'Es', 'Abeye', 'Saeed',\n",
       "       'Ferreira', 'Mokonin', 'Félix', 'Vos', 'Rodríguez', 'Lauck',\n",
       "       'Rebitu', 'Larraga', 'Machado', 'Matanga', 'Oliveira', 'Gesabwa',\n",
       "       'Muluhabt', 'Boulet', 'Habtegebrel', 'Morató', 'Reuck', 'Rocha',\n",
       "       '19.04.57', 'Lent', 'Kiragu', '09.09.93', 'Blunk', 'Rabo'],\n",
       "      dtype=object)"
      ]
     },
     "execution_count": 8,
     "metadata": {},
     "output_type": "execute_result"
    }
   ],
   "source": [
    "df.Country.unique()"
   ]
  },
  {
   "cell_type": "code",
   "execution_count": 9,
   "id": "eba38250",
   "metadata": {},
   "outputs": [
    {
     "name": "stdout",
     "output_type": "stream",
     "text": [
      "['2009-08-16' '2012-08-05' '2008-08-16' ... '2019-05-09' '2017-09-22'\n",
      " '1991-10-06']\n"
     ]
    },
    {
     "data": {
      "text/plain": [
       "('Maior Data:', '2019-07-25', 'Menor Data:', '2009-08-16')"
      ]
     },
     "execution_count": 9,
     "metadata": {},
     "output_type": "execute_result"
    }
   ],
   "source": [
    "print(df.Date.unique())\n",
    "\"Maior Data:\", df.Date.loc[df.Date.index.max()], \"Menor Data:\", df.Date.loc[df.Date.index.min()]"
   ]
  },
  {
   "cell_type": "markdown",
   "id": "4cd24663",
   "metadata": {},
   "source": [
    "Na corrida de 100 metros, qual o tempo minimo, maximo e médio dos atletas de cada categoria?"
   ]
  },
  {
   "cell_type": "code",
   "execution_count": 10,
   "id": "5d509b80",
   "metadata": {},
   "outputs": [
    {
     "name": "stdout",
     "output_type": "stream",
     "text": [
      " O tempo máximo para um atleta feminino percorrer 100 metros foi de : 11.09\n",
      " O tempo mínimo para um atleta feminino percorrer 100 metros foi de : 10.49\n",
      " O tempo médio para um atleta feminino percorrer 100 metros foi de : 11.01\n",
      "----------------------------------------------------------------------------------------------------\n",
      " O tempo máximo para um atleta masculino percorrer 100 metros foi de : 10.09\n",
      " O tempo mínimo para um atleta masculino percorrer 100 metros foi de : 9.58\n",
      " O tempo médio para um atleta masculino percorrer 100 metros foi de : 10.03\n"
     ]
    }
   ],
   "source": [
    "base_100m_men = df[(df.Gender == \"men\") & (df.Discipline == \"100 metres\")]\n",
    "base_100m_women = df[(df.Gender == \"women\") & (df.Discipline == \"100 metres\")]\n",
    "\n",
    "print(f\" O tempo máximo para um atleta feminino percorrer 100 metros foi de : {base_100m_women.Time.max()}\")\n",
    "print(f\" O tempo mínimo para um atleta feminino percorrer 100 metros foi de : {base_100m_women.Time.min()}\")\n",
    "print(f\" O tempo médio para um atleta feminino percorrer 100 metros foi de : {base_100m_women.Time.median()}\")\n",
    "print(\"----------------------------------------------------------------------------------------------------\")\n",
    "print(f\" O tempo máximo para um atleta masculino percorrer 100 metros foi de : {base_100m_men.Time.max()}\")\n",
    "print(f\" O tempo mínimo para um atleta masculino percorrer 100 metros foi de : {base_100m_men.Time.min()}\")\n",
    "print(f\" O tempo médio para um atleta masculino percorrer 100 metros foi de : {base_100m_men.Time.median()}\")\n"
   ]
  },
  {
   "cell_type": "markdown",
   "id": "1069bd79",
   "metadata": {},
   "source": [
    "Evolução do Bolt no decorrer de 10 anos\n",
    "Plot linha (1 linha para cada velocidade), eixo X será as datas em que correu, eixo Y será o tempo gasto em cada prova"
   ]
  },
  {
   "cell_type": "code",
   "execution_count": 13,
   "id": "e164c8f8",
   "metadata": {},
   "outputs": [
    {
     "data": {
      "text/plain": [
       "array(['100 metres', '200 metres'], dtype=object)"
      ]
     },
     "execution_count": 13,
     "metadata": {},
     "output_type": "execute_result"
    }
   ],
   "source": [
    "df.loc[df.Runner == \"Usain Bolt\"].Discipline.unique()"
   ]
  },
  {
   "cell_type": "markdown",
   "id": "a107f14f",
   "metadata": {},
   "source": [
    "O runner Bolt só tem registros de 100 e 200 metros, então, nosso gráfico tera apenas 2 linhas.\n",
    "Preparando a base para plot"
   ]
  },
  {
   "cell_type": "code",
   "execution_count": 15,
   "id": "c182a30e",
   "metadata": {},
   "outputs": [],
   "source": [
    "base_bolt = df.loc[df.Runner == \"Usain Bolt\"]\n",
    "base_bolt_100m = base_bolt.loc[base_bolt.Discipline\t== \"100 metres\"]\n",
    "base_bolt_100m_x = base_bolt_100m.Date\n",
    "base_bolt_100m_y = base_bolt_100m.Time"
   ]
  },
  {
   "cell_type": "code",
   "execution_count": 21,
   "id": "fb30d388",
   "metadata": {},
   "outputs": [
    {
     "data": {
      "image/png": "[encoded data removed]",
      "text/plain": [
       "<Figure size 640x480 with 1 Axes>"
      ]
     },
     "metadata": {},
     "output_type": "display_data"
    }
   ],
   "source": [
    "import matplotlib.pyplot as plt\n",
    "\n",
    "# Criando o gráfico\n",
    "plt.plot(base_bolt_100m_x, base_bolt_100m_y, label='Linha 1', color='blue')\n",
    "\n",
    "# Adicionando rótulos e título\n",
    "plt.xlabel('Eixo X')\n",
    "plt.ylabel('Eixo Y')\n",
    "plt.title('Gráfico com 4 Linhas')\n",
    "\n",
    "plt.legend()\n",
    "\n",
    "plt.grid(True)\n",
    "plt.show()"
   ]
  }
 ],
 "metadata": {
  "kernelspec": {
   "display_name": "Python 3",
   "language": "python",
   "name": "python3"
  },
  "language_info": {
   "codemirror_mode": {
    "name": "ipython",
    "version": 3
   },
   "file_extension": ".py",
   "mimetype": "text/x-python",
   "name": "python",
   "nbconvert_exporter": "python",
   "pygments_lexer": "ipython3",
   "version": "3.12.1"
  }
 },
 "nbformat": 4,
 "nbformat_minor": 5
}
