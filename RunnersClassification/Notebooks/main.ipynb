{
 "cells": [
  {
   "cell_type": "markdown",
   "id": "31440eb8",
   "metadata": {},
   "source": [
    "Dataset Runners, hiperlink: \n",
    "https://www.kaggle.com/datasets/beridzeg45/runners-dataset?resource=download"
   ]
  },
  {
   "cell_type": "code",
   "execution_count": 1,
   "id": "41e1fcfa",
   "metadata": {},
   "outputs": [],
   "source": [
    "import pandas as pd"
   ]
  },
  {
   "cell_type": "code",
   "execution_count": 4,
   "id": "9f391950",
   "metadata": {},
   "outputs": [
    {
     "data": {
      "text/html": [
       "<div>\n",
       "<style scoped>\n",
       "    .dataframe tbody tr th:only-of-type {\n",
       "        vertical-align: middle;\n",
       "    }\n",
       "\n",
       "    .dataframe tbody tr th {\n",
       "        vertical-align: top;\n",
       "    }\n",
       "\n",
       "    .dataframe thead th {\n",
       "        text-align: right;\n",
       "    }\n",
       "</style>\n",
       "<table border=\"1\" class=\"dataframe\">\n",
       "  <thead>\n",
       "    <tr style=\"text-align: right;\">\n",
       "      <th></th>\n",
       "      <th>Discipline</th>\n",
       "      <th>Gender</th>\n",
       "      <th>Runner</th>\n",
       "      <th>Time</th>\n",
       "      <th>Country</th>\n",
       "      <th>Date</th>\n",
       "    </tr>\n",
       "  </thead>\n",
       "  <tbody>\n",
       "    <tr>\n",
       "      <th>0</th>\n",
       "      <td>100 metres</td>\n",
       "      <td>men</td>\n",
       "      <td>Usain Bolt</td>\n",
       "      <td>9.58</td>\n",
       "      <td>JAM</td>\n",
       "      <td>2009-08-16</td>\n",
       "    </tr>\n",
       "    <tr>\n",
       "      <th>1</th>\n",
       "      <td>100 metres</td>\n",
       "      <td>men</td>\n",
       "      <td>Usain Bolt</td>\n",
       "      <td>9.63</td>\n",
       "      <td>JAM</td>\n",
       "      <td>2012-08-05</td>\n",
       "    </tr>\n",
       "    <tr>\n",
       "      <th>2</th>\n",
       "      <td>100 metres</td>\n",
       "      <td>men</td>\n",
       "      <td>Usain Bolt</td>\n",
       "      <td>9.69</td>\n",
       "      <td>JAM</td>\n",
       "      <td>2008-08-16</td>\n",
       "    </tr>\n",
       "    <tr>\n",
       "      <th>3</th>\n",
       "      <td>100 metres</td>\n",
       "      <td>men</td>\n",
       "      <td>Tyson Gay</td>\n",
       "      <td>9.69</td>\n",
       "      <td>USA</td>\n",
       "      <td>2009-09-20</td>\n",
       "    </tr>\n",
       "    <tr>\n",
       "      <th>4</th>\n",
       "      <td>100 metres</td>\n",
       "      <td>men</td>\n",
       "      <td>Yohan Blake</td>\n",
       "      <td>9.69</td>\n",
       "      <td>JAM</td>\n",
       "      <td>2012-08-23</td>\n",
       "    </tr>\n",
       "  </tbody>\n",
       "</table>\n",
       "</div>"
      ],
      "text/plain": [
       "   Discipline Gender       Runner  Time Country        Date\n",
       "0  100 metres    men   Usain Bolt  9.58     JAM  2009-08-16\n",
       "1  100 metres    men   Usain Bolt  9.63     JAM  2012-08-05\n",
       "2  100 metres    men   Usain Bolt  9.69     JAM  2008-08-16\n",
       "3  100 metres    men    Tyson Gay  9.69     USA  2009-09-20\n",
       "4  100 metres    men  Yohan Blake  9.69     JAM  2012-08-23"
      ]
     },
     "execution_count": 4,
     "metadata": {},
     "output_type": "execute_result"
    }
   ],
   "source": [
    "df = pd.read_csv(r\"/workspaces/ML/RunnersClassification/Data/runners.csv\")\n",
    "df.head()"
   ]
  },
  {
   "cell_type": "code",
   "execution_count": null,
   "id": "ec3be2ab",
   "metadata": {},
   "outputs": [],
   "source": []
  }
 ],
 "metadata": {
  "kernelspec": {
   "display_name": "Python 3",
   "language": "python",
   "name": "python3"
  },
  "language_info": {
   "codemirror_mode": {
    "name": "ipython",
    "version": 3
   },
   "file_extension": ".py",
   "mimetype": "text/x-python",
   "name": "python",
   "nbconvert_exporter": "python",
   "pygments_lexer": "ipython3",
   "version": "3.12.1"
  }
 },
 "nbformat": 4,
 "nbformat_minor": 5
}
