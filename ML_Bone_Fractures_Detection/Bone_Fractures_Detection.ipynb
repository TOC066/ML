{
  "nbformat": 4,
  "nbformat_minor": 0,
  "metadata": {
    "colab": {
      "provenance": []
    },
    "kernelspec": {
      "name": "python3",
      "display_name": "Python 3"
    },
    "language_info": {
      "name": "python"
    }
  },
  "cells": [
    {
      "cell_type": "code",
      "execution_count": 6,
      "metadata": {
        "id": "JT-zOK7stc91"
      },
      "outputs": [],
      "source": [
        "import tensorflow as tf\n",
        "from tensorflow.keras import layers, models\n",
        "from google.colab import drive\n",
        "import os"
      ]
    },
    {
      "cell_type": "markdown",
      "source": [
        "Import da base"
      ],
      "metadata": {
        "id": "XNIxgyyytqda"
      }
    },
    {
      "cell_type": "code",
      "source": [
        "drive.mount('/content/drive')"
      ],
      "metadata": {
        "id": "3o9y2lBKtpWy",
        "colab": {
          "base_uri": "https://localhost:8080/"
        },
        "outputId": "69f66f41-0b1f-4e13-b04f-6dbb36dbe93d"
      },
      "execution_count": 3,
      "outputs": [
        {
          "output_type": "stream",
          "name": "stdout",
          "text": [
            "Mounted at /content/drive\n"
          ]
        }
      ]
    },
    {
      "cell_type": "markdown",
      "source": [
        "Testando um list comprehension para leitura da base"
      ],
      "metadata": {
        "id": "HW4TCI0W2KNj"
      }
    },
    {
      "cell_type": "code",
      "source": [
        "path_main = \"/content/drive/MyDrive/Machine_Learning_Models/Bone Fractures Detection/\"\n",
        "pastas = [os.path.join(path_main, objetos) if os.path.isdir(os.path.join(path_main, objetos)) else \"é um arquivo\" for objetos in os.listdir(path_main)   ]\n",
        "pastas\n"
      ],
      "metadata": {
        "colab": {
          "base_uri": "https://localhost:8080/"
        },
        "id": "kv5blNqozA0P",
        "outputId": "2c9eadf1-5e73-406b-e893-fba0289caea4"
      },
      "execution_count": 24,
      "outputs": [
        {
          "output_type": "execute_result",
          "data": {
            "text/plain": [
              "['é um arquivo',\n",
              " 'é um arquivo',\n",
              " '/content/drive/MyDrive/Machine_Learning_Models/Bone Fractures Detection/valid',\n",
              " '/content/drive/MyDrive/Machine_Learning_Models/Bone Fractures Detection/train',\n",
              " '/content/drive/MyDrive/Machine_Learning_Models/Bone Fractures Detection/test']"
            ]
          },
          "metadata": {},
          "execution_count": 24
        }
      ]
    }
  ]
}