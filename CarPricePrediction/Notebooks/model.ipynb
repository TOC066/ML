{
 "cells": [
  {
   "cell_type": "markdown",
   "id": "cb513ce8",
   "metadata": {},
   "source": [
    "Base dados disponível em :\n",
    "https://www.kaggle.com/datasets/hellbuoy/car-price-prediction/suggestions?status=pending"
   ]
  }
 ],
 "metadata": {
  "language_info": {
   "name": "python"
  }
 },
 "nbformat": 4,
 "nbformat_minor": 5
}
